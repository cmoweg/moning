{
  "nbformat": 4,
  "nbformat_minor": 0,
  "metadata": {
    "colab": {
      "name": "Lab-10-3 CNN",
      "provenance": [],
      "collapsed_sections": [],
      "authorship_tag": "ABX9TyOqPfzjNW8OAE21sa+Gk2Gu",
      "include_colab_link": true
    },
    "kernelspec": {
      "name": "python3",
      "display_name": "Python 3"
    }
  },
  "cells": [
    {
      "cell_type": "markdown",
      "metadata": {
        "id": "view-in-github",
        "colab_type": "text"
      },
      "source": [
        "<a href=\"https://colab.research.google.com/github/cmoweg/moning/blob/master/Lab_10_3_CNN.ipynb\" target=\"_parent\"><img src=\"https://colab.research.google.com/assets/colab-badge.svg\" alt=\"Open In Colab\"/></a>"
      ]
    },
    {
      "cell_type": "code",
      "metadata": {
        "id": "b5g9teZlJPa4",
        "colab_type": "code",
        "colab": {}
      },
      "source": [
        "import torch\n",
        "import torch.nn as nn\n",
        "import torchvision.datasets as dsets\n",
        "import torchvision.transforms as transforms\n",
        "\n",
        "import torch.nn.init"
      ],
      "execution_count": 0,
      "outputs": []
    },
    {
      "cell_type": "code",
      "metadata": {
        "id": "yPnwr93tJe9L",
        "colab_type": "code",
        "colab": {}
      },
      "source": [
        "device = 'cuda' if torch.cuda.is_available() else 'cpu'\n",
        "\n",
        "torch.manual_seed(777)\n",
        "if device == 'couda':\n",
        "  torch.cuda.manual_seed_all(777)"
      ],
      "execution_count": 0,
      "outputs": []
    },
    {
      "cell_type": "code",
      "metadata": {
        "id": "IGc_X1zGJqS-",
        "colab_type": "code",
        "colab": {}
      },
      "source": [
        "#parameters 나중에 넣어도 관계없다\n",
        "learning_rate = 0.001\n",
        "training_epochs = 15\n",
        "batch_size = 100"
      ],
      "execution_count": 0,
      "outputs": []
    },
    {
      "cell_type": "code",
      "metadata": {
        "id": "-9SX5rG1JxPX",
        "colab_type": "code",
        "colab": {}
      },
      "source": [
        "#MNIST dataset\n",
        "\n",
        "mnist_train = dsets.MNIST(root='MNIST_data/', # 따라써야 추가로 불필요한 다운로드를 하지 않는다.\n",
        "                          train = True,\n",
        "                          transform = transforms.ToTensor(), # Tensor value로 전환\n",
        "                          download=True # 직접 데이터 다운로드해서 사용하겠다.\n",
        "                          )\n",
        "mnist_test = dsets.MNIST(root='MNIST_data/',\n",
        "                          train = False, # False, test data\n",
        "                          transform = transforms.ToTensor(), \n",
        "                          download=True)"
      ],
      "execution_count": 0,
      "outputs": []
    },
    {
      "cell_type": "code",
      "metadata": {
        "id": "CO_CM6HQKzng",
        "colab_type": "code",
        "colab": {}
      },
      "source": [
        "data_loader = torch.utils.data.DataLoader(dataset=mnist_train,\n",
        "                                          batch_size = batch_size,\n",
        "                                          shuffle=True,\n",
        "                                          drop_last=True)\n"
      ],
      "execution_count": 0,
      "outputs": []
    },
    {
      "cell_type": "code",
      "metadata": {
        "id": "LPrcRo1qKgqF",
        "colab_type": "code",
        "colab": {}
      },
      "source": [
        "class CNN(nn.Module):\n",
        "  def __init__(self):\n",
        "    super(CNN, self).__init__()\n",
        "    self.layer1 = nn.Sequential(\n",
        "        nn.Conv2d(1, 32, kernel_size=3, stride=1, padding=1),\n",
        "        nn.ReLU(),\n",
        "        nn.MaxPool2d(2)\n",
        "    )\n",
        "\n",
        "    self.layer2 = nn.Sequential(\n",
        "        nn.Conv2d(32, 64, kernel_size=3, stride=1, padding=1),\n",
        "        nn.ReLU(),\n",
        "        nn.MaxPool2d(2)\n",
        "    )\n",
        "\n",
        "    self.fc = nn.Linear(7*7*64, 10, bias = True)# channel이 64에 7 by 7 output\n",
        "    torch.nn.init.xavier_uniform_(self.fc.weight)\n",
        "\n",
        "  def forward(self, x):\n",
        "    out = self.layer1(x)\n",
        "    out = self.layer2(out)\n",
        "\n",
        "    out = out.view(out.size(0), -1) # batch_size만큼 펼치고, 나머지는 한줄...???\n",
        "    out = self.fc(out)\n",
        "    return out"
      ],
      "execution_count": 0,
      "outputs": []
    },
    {
      "cell_type": "code",
      "metadata": {
        "id": "_6PdH8oCPsfk",
        "colab_type": "code",
        "colab": {}
      },
      "source": [
        "model = CNN().to(device)"
      ],
      "execution_count": 0,
      "outputs": []
    },
    {
      "cell_type": "code",
      "metadata": {
        "id": "4XDo1qZQPx_t",
        "colab_type": "code",
        "colab": {}
      },
      "source": [
        "# loss function\n",
        "criterion = nn.CrossEntropyLoss().to(device)\n",
        "optimizer = torch.optim.Adam(model.parameters(), lr = learning_rate) # optimizer를 사용할 때 파라미터를 넣어줘야 한다."
      ],
      "execution_count": 0,
      "outputs": []
    },
    {
      "cell_type": "code",
      "metadata": {
        "id": "P3OZuHgRP0SX",
        "colab_type": "code",
        "colab": {
          "base_uri": "https://localhost:8080/",
          "height": 305
        },
        "outputId": "5fa46a07-f1a4-49e0-d49b-9bb38f57c59a"
      },
      "source": [
        "  # training\n",
        "  total_batch = len(data_loader) # 전체 batch 크기\n",
        "\n",
        "  for epoch in range(training_epochs):\n",
        "    avg_cost = 0 # loss를 담을 것.\n",
        "\n",
        "    for X, Y in data_loader:\n",
        "      X = X.to(device)\n",
        "      Y = Y.to(device)\n",
        "\n",
        "      optimizer.zero_grad() # 중요. 없으면 학습 불가\n",
        "      hypothesis = model(X)\n",
        "\n",
        "      cost = criterion(hypothesis, Y)\n",
        "      cost.backward()\n",
        "      optimizer.step()\n",
        "\n",
        "      avg_cost += cost / total_batch # cost를 쌓는다.\n",
        "\n",
        "    print('[Epoch:{}] cost = {}'.format(epoch+1, avg_cost))\n",
        "  print('Learning Finished!')\n"
      ],
      "execution_count": 17,
      "outputs": [
        {
          "output_type": "stream",
          "text": [
            "[Epoch:1] cost = 0.22400668263435364\n",
            "[Epoch:2] cost = 0.06218694895505905\n",
            "[Epoch:3] cost = 0.04490301385521889\n",
            "[Epoch:4] cost = 0.035570982843637466\n",
            "[Epoch:5] cost = 0.029045002534985542\n",
            "[Epoch:6] cost = 0.024852784350514412\n",
            "[Epoch:7] cost = 0.020718909800052643\n",
            "[Epoch:8] cost = 0.018198281526565552\n",
            "[Epoch:9] cost = 0.015304670669138432\n",
            "[Epoch:10] cost = 0.012417933903634548\n",
            "[Epoch:11] cost = 0.010542315430939198\n",
            "[Epoch:12] cost = 0.009918601252138615\n",
            "[Epoch:13] cost = 0.008947704918682575\n",
            "[Epoch:14] cost = 0.007122100796550512\n",
            "[Epoch:15] cost = 0.005885852966457605\n",
            "Learning Finished!\n"
          ],
          "name": "stdout"
        }
      ]
    },
    {
      "cell_type": "code",
      "metadata": {
        "id": "wAwnIkwNSrCd",
        "colab_type": "code",
        "colab": {
          "base_uri": "https://localhost:8080/",
          "height": 127
        },
        "outputId": "279ff240-d49f-4891-f8e9-6ba0845da0ac"
      },
      "source": [
        "# test model\n",
        "with torch.no_grad():\n",
        "  X_test = mnist_test.test_data.view(len(mnist_test), 1, 28, 28).float().to(device)\n",
        "  Y_test = mnist_test.test_labels.to(device)\n",
        "\n",
        "  prediction = model(X_test)\n",
        "  correct_prediction = torch.argmax(prediction, 1) == Y_test\n",
        "  accuracy = correct_prediction.float().mean() # 평균\n",
        "  print('Accuracy:', accuracy.item())"
      ],
      "execution_count": 18,
      "outputs": [
        {
          "output_type": "stream",
          "text": [
            "/usr/local/lib/python3.6/dist-packages/torchvision/datasets/mnist.py:60: UserWarning: test_data has been renamed data\n",
            "  warnings.warn(\"test_data has been renamed data\")\n",
            "/usr/local/lib/python3.6/dist-packages/torchvision/datasets/mnist.py:50: UserWarning: test_labels has been renamed targets\n",
            "  warnings.warn(\"test_labels has been renamed targets\")\n"
          ],
          "name": "stderr"
        },
        {
          "output_type": "stream",
          "text": [
            "Accuracy: 0.9883000254631042\n"
          ],
          "name": "stdout"
        }
      ]
    },
    {
      "cell_type": "code",
      "metadata": {
        "id": "3_yQmrexYCg4",
        "colab_type": "code",
        "colab": {}
      },
      "source": [
        ""
      ],
      "execution_count": 0,
      "outputs": []
    }
  ]
}